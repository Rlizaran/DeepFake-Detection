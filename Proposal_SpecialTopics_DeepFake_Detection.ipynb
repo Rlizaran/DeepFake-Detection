{
 "cells": [
  {
   "attachments": {},
   "cell_type": "markdown",
   "metadata": {},
   "source": [
    "# COGS 188 - Special Topics Proposal"
   ]
  },
  {
   "cell_type": "markdown",
   "metadata": {},
   "source": [
    "# Names\n",
    "\n",
    "- Rodrigo Lizaran-Molina\n",
    "- Allen Phu\n",
    "- Saksham Rai\n",
    "- Pratham Mittal"
   ]
  },
  {
   "attachments": {},
   "cell_type": "markdown",
   "metadata": {},
   "source": [
    "# Topic and outline\n",
    "\n",
    "### Main topic\n",
    "Deepfake technology creates convincing fake content, challenging traditional detection methods. Innovative approaches, powered by advanced machine learning, aim to spot subtle inconsistencies. These efforts are vital to counter the threats posed by deepfakes to individuals and society.\n",
    "\n",
    "### Learning goal for students \n",
    "To comprehend the mechanisms behind AI algorithms used in deepfake creation and detection, critically analyze the ethical implications of their application, and develop strategies to responsibly navigate the ethical challenges posed by deepfake technology.\n",
    "\n",
    "\n",
    "### Outline of the topic\n",
    "  - Introduction (to deepfakes) and a brief overview\n",
    "    - __Deepfake techniques are on the rise: we should keep track of the ethical considerations behind such techniques.__\n",
    "    - Brief overview of DeepFake technology\n",
    "    - Deepfake detection techniques are important in preserving trust and security \n",
    "    - Quick outline of other key topics \n",
    "    - Estimated time to complete: 15 minutes\n",
    "  - Discussion on Deepfake/Deepfake detection algorithms\n",
    "    - __Why is it so difficult to make effective detection algorithms?__\n",
    "    - Discuss the difficulty of effective detection algorithms, the idea of the \"arms race\" between Deepfake/Deepfake detection\n",
    "    - Do overview of the Deepfake database, how it's used to help detect deepfakes, talk about the benchmark research paper\n",
    "    - Estimated time to complete: 15 minutes\n",
    "  - Deeper dive into demographic labels and Deepfake detection\n",
    "    - __How can demographic labels assist in Deepfake detection?__\n",
    "    - Deeper explanation on how demographic labels can help AI algos detect Deepfakes\n",
    "    - Effectiveness of this technique/approach on increasing detection accuracy \n",
    "    - Estimated time to complete: 15 minutes\n",
    "  - Biological features and Deepfake detection \n",
    "      - __How do biological features and Deepfake detection algorithms work together?__\n",
    "      - Talk about how biological features/signals are used for detecting Deepfake videos\n",
    "      - Talk about the effectiveness of biological features/signals, whether they are reliable enough to be used as a \"real-world\" application\n",
    "      - Estimated time to complete: 10 minutes\n",
    "  - Case Studies and Real World Applications\n",
    "      - __What are some real-world applications of deepfakes? What's been done so far?__\n",
    "      - Present some case studies based off of our research on the impact of Deepfake technologies\n",
    "      - Discuss the implications of Deepfakes on society\n",
    "      - Estimated time to complete: 10 minutes\n",
    "  - Conclusion/Future Prospects\n",
    "      - __What's next? Where do we go from here?__\n",
    "      - Recap key concepts captured in lecture\n",
    "      - Emphasize the ongoing challenges as well as innovations in the world of Deepfake detection\n",
    "      - Encourage students to do potential further research in the field \n",
    "      - Estimated time to complete: 5 minutes"
   ]
  },
  {
   "attachments": {},
   "cell_type": "markdown",
   "metadata": {},
   "source": [
    "# Pedagogy\n",
    "\n",
    "\n",
    "### Readings\n",
    "\n",
    "#### 1. \"Deepfakes and Deep Video Portraits\" by H. Thies, M. Zollhöfer, M. Stamminger, C. Theobalt, and B. Nießner. (Required)\n",
    "\n",
    "This paper discusses the techniques used in creating deepfake videos, particularly focusing on deep video portraits. It addresses the technological advances in facial reenactment and replacement that make deepfakes possible. The reading will provide students with a foundational understanding of the technical aspects of deepfake creation.\n",
    "\n",
    "Link -> https://arxiv.org/abs/1805.11714\n",
    "\n",
    "#### 2. \"The Malicious Use of Artificial Intelligence: Forecasting, Prevention, and Mitigation\" by Brundage et al. (Required)\n",
    "\n",
    "This report covers broader issues concerning the malicious uses of AI, including deepfakes. It offers a comprehensive analysis of potential threats, ethical considerations, and mitigation strategies. This document will help frame the discussion on the societal and ethical implications of deepfakes.\n",
    "\n",
    "Link -> https://arxiv.org/abs/1802.07228\n",
    "\n",
    "#### 3. \"Detection Stays One Step Ahead of Deepfakes—for Now\" by Matthew Hutson. (Suggested)\n",
    "\n",
    "This article examines the ongoing battle between the creation of deepfakes and the development of technologies to detect them. It highlights several advanced detection methods, including the use of photoplethysmography to analyze subtle changes in facial blood flow and motion-based detection systems that magnify facial movements for better analysis by neural networks. The successes and limitations of these technologies are discussed, as well as the ongoing development of countermeasures against increasingly sophisticated deepfakes.\n",
    "\n",
    "Link -> https://spectrum.ieee.org/deepfake\n",
    "\n",
    "### Lecture description\n",
    "\n",
    "\n",
    "#### Slide 1: Introduction to Deepfakes\n",
    "\n",
    "Overview of what deepfakes are and their significance in today's digital landscape.\n",
    "Introduction to the learning goals of the lecture.\n",
    "\n",
    "#### Slide 2-4: Technical Foundations\n",
    "\n",
    "Explanation of the AI algorithms involved in creating deepfakes, focusing on GANs and their operation.\n",
    "Demonstrative visuals showing the step-by-step process of generating a deepfake.\n",
    "\n",
    "#### Slide 5-6: Ethical and Societal Challenges\n",
    "\n",
    "Discussion of key ethical issues, including misinformation, privacy, and the potential for misuse.\n",
    "Real-world examples of deepfake misuse and the consequences on individuals and society.\n",
    "\n",
    "#### Slide 7-8: Detection Techniques\n",
    "\n",
    "Overview of current methods and technologies used to detect deepfakes.\n",
    "Discussion on the challenges of keeping detection methods up to date with evolving deepfake technology.\n",
    "\n",
    "#### Slide 9: Strategies for Responsible Use\n",
    "\n",
    "Discussion on best practices for AI developers to mitigate the risks associated with deepfakes.\n",
    "Suggestions for policy measures and community guidelines to manage the creation and dissemination of deepfakes.\n",
    "\n",
    "#### Slide 10: Conclusion and Q&A\n",
    "\n",
    "Recap of the main points covered in the lecture.\n",
    "Open floor for student questions and discussion to clarify doubts and deepen understanding.\n",
    "\n",
    "### Active learning\n",
    "\n",
    "##### Exercise: Real vs. Fake Media Analysis\n",
    "\n",
    "- **Outline Coverage**: Slide 7-8, Detection Techniques.\n",
    "- **Description**: Students will engage in an interactive exercise where they analyze a series of video clips and images, determining which are real and which are deepfakes. This will be facilitated by a guided framework where students first observe, then discuss in small groups the tell-tale signs they believe indicate a deepfake.\n",
    "- **Duration**: Roughly 5-7 minutes maximum.\n",
    "\n",
    "##### Discussion: Ethical Implications\n",
    "\n",
    "- **Outline Coverage**: Slide 5-6, Ethical and Societal Challenges.\n",
    "- **Description**: Facilitate a discussion on the ethical implications of deepfakes. Provide scenarios where deepfakes might be used in both harmful and potentially beneficial ways. Students are encouraged to debate the morality and long-term impacts of deepfake technology in various contexts, such as politics, entertainment, and personal relationships.\n",
    "- **Duration**: 5-7| minutes maximum.\n",
    "\n",
    "    "
   ]
  },
  {
   "attachments": {},
   "cell_type": "markdown",
   "metadata": {},
   "source": [
    "# Dates\n",
    "- May 31\n",
    "- Jun 03\n",
    "- Jun 05\n",
    "- Jun 07"
   ]
  },
  {
   "cell_type": "markdown",
   "metadata": {},
   "source": [
    "# Team Expectations "
   ]
  },
  {
   "cell_type": "markdown",
   "metadata": {},
   "source": [
    "As a team, we are committed to maintaining a high level of collaboration, professionalism, and respect among all members. Our shared expectations for one another are as follows:\n",
    "\n",
    "* **Active and Respectful Communication**: We value open and active communication. Team members should feel comfortable expressing their thoughts, ideas, and concerns. We will listen actively and respectfully to each other.\n",
    "\n",
    "* **Idea Exchange**: Everyone is welcome to contribute their thoughts and suggestions. We will consider each other's ideas with respect and appreciation.\n",
    "\n",
    "* **Continuous Collaboration**: If any team member has ideas or encounters challenges, please share them directly through our Discord communication channel as soon as possible. We believe that open and timely communication is essential to address issues promptly and efficiently.\n",
    "\n",
    "* **Timely Task Completion**: We understand the importance of meeting deadlines. Team members are expected to complete their assigned sections on time. If you foresee challenges in meeting a deadline, please communicate this at least two days in advance so that we can collectively find solutions.\n",
    "\n",
    "* **Equal Work Distribution**: The workload will be distributed equitably. All team members are expected to contribute to the Special Topic, ensuring that no one bears an undue burden.\n",
    "\n",
    "Rodrigo Lizaran-Molina: Topic and Outline\n",
    "\n",
    "Allen Phu: Topic and Outline\n",
    "\n",
    "Saksham Rai: Pedagogy\n",
    "\n",
    "Pathram: Pedagogy"
   ]
  },
  {
   "cell_type": "markdown",
   "metadata": {},
   "source": [
    "# Project Timeline Proposal"
   ]
  },
  {
   "cell_type": "markdown",
   "metadata": {},
   "source": [
    "| Meeting Date  | Meeting Time| Completed Before Meeting  | Discuss at Meeting |\n",
    "|---|---|---|---|\n",
    "| 4/20  |  4 PM |  Brainstorm topics/questions (all)  | Determine best form of communication; Discuss and decide on final Special Topic; discuss Topic and Readings; begin background research | \n",
    "| 4/26  |  4 PM |  Do background research on topic (all) | Discuss ideal ethics; draft Special Topic Proposal | \n",
    "| 5/12  | 4 PM  | Edit, finalize, and submit proposal  | Discuss Ethics, possible coding approaches and readings; Assign group members to lead each specific part   |\n",
    "| 5/20  | 4 PM  | Finalize Power Point and discussion activities | Discuss/edit Special topic set up; Complete Special Topic Session |\n",
    "| 5/31  | TBD | NA | Present Special Topic during class time assigned  |"
   ]
  }
 ],
 "metadata": {
  "kernelspec": {
   "display_name": "Python 3",
   "language": "python",
   "name": "python3"
  },
  "language_info": {
   "codemirror_mode": {
    "name": "ipython",
    "version": 3
   },
   "file_extension": ".py",
   "mimetype": "text/x-python",
   "name": "python",
   "nbconvert_exporter": "python",
   "pygments_lexer": "ipython3",
   "version": "3.7.11 (default, Jul 27 2021, 07:03:16) \n[Clang 10.0.0 ]"
  },
  "vscode": {
   "interpreter": {
    "hash": "40d3a090f54c6569ab1632332b64b2c03c39dcf918b08424e98f38b5ae0af88f"
   }
  }
 },
 "nbformat": 4,
 "nbformat_minor": 2
}
